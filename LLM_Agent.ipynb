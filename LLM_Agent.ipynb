{
  "cells": [
    {
      "cell_type": "markdown",
      "metadata": {
        "id": "VVs4tvgbt2UC"
      },
      "source": [
        "Gathnex : https://gathnex.medium.com/how-to-create-your-own-llm-agent-from-scratch-a-step-by-step-guide-14b763e5b3b8"
      ]
    },
    {
      "cell_type": "code",
      "execution_count": null,
      "metadata": {
        "colab": {
          "base_uri": "https://localhost:8080/"
        },
        "id": "mprnoX-HDV48",
        "outputId": "81b8a2b7-58e6-4e15-86d7-99091e93ee72"
      },
      "outputs": [
        {
          "output_type": "stream",
          "name": "stdout",
          "text": [
            "\u001b[2K     \u001b[90m━━━━━━━━━━━━━━━━━━━━━━━━━━━━━━━━━━━━━━━━\u001b[0m \u001b[32m221.4/221.4 kB\u001b[0m \u001b[31m6.0 MB/s\u001b[0m eta \u001b[36m0:00:00\u001b[0m\n",
            "\u001b[2K     \u001b[90m━━━━━━━━━━━━━━━━━━━━━━━━━━━━━━━━━━━━━━━━\u001b[0m \u001b[32m2.0/2.0 MB\u001b[0m \u001b[31m62.8 MB/s\u001b[0m eta \u001b[36m0:00:00\u001b[0m\n",
            "\u001b[2K     \u001b[90m━━━━━━━━━━━━━━━━━━━━━━━━━━━━━━━━━━━━━━━━\u001b[0m \u001b[32m75.0/75.0 kB\u001b[0m \u001b[31m9.8 MB/s\u001b[0m eta \u001b[36m0:00:00\u001b[0m\n",
            "\u001b[2K     \u001b[90m━━━━━━━━━━━━━━━━━━━━━━━━━━━━━━━━━━━━━━━━\u001b[0m \u001b[32m178.2/178.2 kB\u001b[0m \u001b[31m25.7 MB/s\u001b[0m eta \u001b[36m0:00:00\u001b[0m\n",
            "\u001b[2K     \u001b[90m━━━━━━━━━━━━━━━━━━━━━━━━━━━━━━━━━━━━━━━━\u001b[0m \u001b[32m48.2/48.2 kB\u001b[0m \u001b[31m5.2 MB/s\u001b[0m eta \u001b[36m0:00:00\u001b[0m\n",
            "\u001b[2K     \u001b[90m━━━━━━━━━━━━━━━━━━━━━━━━━━━━━━━━━━━━━━━━\u001b[0m \u001b[32m49.4/49.4 kB\u001b[0m \u001b[31m6.3 MB/s\u001b[0m eta \u001b[36m0:00:00\u001b[0m\n",
            "\u001b[2K     \u001b[90m━━━━━━━━━━━━━━━━━━━━━━━━━━━━━━━━━━━━━━━━\u001b[0m \u001b[32m76.9/76.9 kB\u001b[0m \u001b[31m11.1 MB/s\u001b[0m eta \u001b[36m0:00:00\u001b[0m\n",
            "\u001b[2K     \u001b[90m━━━━━━━━━━━━━━━━━━━━━━━━━━━━━━━━━━━━━━━━\u001b[0m \u001b[32m58.3/58.3 kB\u001b[0m \u001b[31m9.6 MB/s\u001b[0m eta \u001b[36m0:00:00\u001b[0m\n",
            "\u001b[?25h\u001b[31mERROR: pip's dependency resolver does not currently take into account all the packages that are installed. This behaviour is the source of the following dependency conflicts.\n",
            "llmx 0.0.15a0 requires cohere, which is not installed.\n",
            "llmx 0.0.15a0 requires tiktoken, which is not installed.\u001b[0m\u001b[31m\n",
            "\u001b[0m"
          ]
        }
      ],
      "source": [
        "!pip install -q openai py_expression_eval google-api-python-client"
      ]
    },
    {
      "cell_type": "code",
      "execution_count": null,
      "metadata": {
        "id": "ulP-LzLJcTeI"
      },
      "outputs": [],
      "source": [
        "from openai import OpenAI\n",
        "from googleapiclient.discovery import build\n",
        "from py_expression_eval import Parser\n",
        "import re, time, os\n",
        "\n",
        "client = OpenAI(api_key='Openai_api_key')\n",
        "os.environ[\"GOOGLE_CSE_ID\"] = \"Google CSE ID\"\n",
        "os.environ[\"GOOGLE_API_KEY\"] = \"Google API Key\""
      ]
    },
    {
      "cell_type": "code",
      "source": [
        "#Google search engine\n",
        "def search(search_term):\n",
        "    search_result = \"\"\n",
        "    service = build(\"customsearch\", \"v1\", developerKey=os.environ.get(\"GOOGLE_API_KEY\"))\n",
        "    res = service.cse().list(q=search_term, cx=os.environ.get(\"GOOGLE_CSE_ID\"), num = 10).execute()\n",
        "    for result in res['items']:\n",
        "        search_result = search_result + result['snippet']\n",
        "    return search_result\n",
        "\n",
        "parser = Parser()\n",
        "def calculator(str):\n",
        "    return parser.parse(str).evaluate({})"
      ],
      "metadata": {
        "id": "k-TuTy7v6rIS"
      },
      "execution_count": null,
      "outputs": []
    },
    {
      "cell_type": "code",
      "execution_count": null,
      "metadata": {
        "id": "dG4lrONc6-O1"
      },
      "outputs": [],
      "source": [
        "System_prompt = \"\"\"\n",
        "Answer the following questions and obey the following commands as best you can.\n",
        "\n",
        "You have access to the following tools:\n",
        "\n",
        "Search: Search: useful for when you need to answer questions about current events. You should ask targeted questions.\n",
        "Calculator: Useful for when you need to answer questions about math. Use python code, eg: 2 + 2\n",
        "Response To Human: When you need to respond to the human you are talking to.\n",
        "\n",
        "You will receive a message from the human, then you should start a loop and do one of two things\n",
        "\n",
        "Option 1: You use a tool to answer the question.\n",
        "For this, you should use the following format:\n",
        "Thought: you should always think about what to do\n",
        "Action: the action to take, should be one of [Search, Calculator]\n",
        "Action Input: \"the input to the action, to be sent to the tool\"\n",
        "\n",
        "After this, the human will respond with an observation, and you will continue.\n",
        "\n",
        "Option 2: You respond to the human.\n",
        "For this, you should use the following format:\n",
        "Action: Response To Human\n",
        "Action Input: \"your response to the human, summarizing what you did and what you learned\"\n",
        "\n",
        "Begin!\n",
        "\"\"\""
      ]
    },
    {
      "cell_type": "code",
      "execution_count": null,
      "metadata": {
        "id": "wOEdjHWp7dSM"
      },
      "outputs": [],
      "source": [
        "def Stream_agent(prompt):\n",
        "    messages = [\n",
        "        { \"role\": \"system\", \"content\": System_prompt },\n",
        "        { \"role\": \"user\", \"content\": prompt },\n",
        "    ]\n",
        "    def extract_action_and_input(text):\n",
        "          action_pattern = r\"Action: (.+?)\\n\"\n",
        "          input_pattern = r\"Action Input: \\\"(.+?)\\\"\"\n",
        "          action = re.findall(action_pattern, text)\n",
        "          action_input = re.findall(input_pattern, text)\n",
        "          return action, action_input\n",
        "    while True:\n",
        "        response = client.chat.completions.create(\n",
        "            model=\"gpt-4\",\n",
        "            messages=messages,\n",
        "            temperature=0,\n",
        "            max_tokens=1000,\n",
        "            top_p=1,)\n",
        "        response_text = response.choices[0].message.content\n",
        "        print(response_text)\n",
        "        time.sleep(30)\n",
        "        action, action_input = extract_action_and_input(response_text)\n",
        "        if action[-1] == \"Search\":\n",
        "            tool = search\n",
        "        elif action[-1] == \"Calculator\":\n",
        "            tool = calculator\n",
        "        elif action[-1] == \"Response To Human\":\n",
        "            print(f\"Response: {action_input[-1]}\")\n",
        "            break\n",
        "        observation = tool(action_input[-1])\n",
        "        print(\"Observation: \", observation)\n",
        "        messages.extend([\n",
        "            { \"role\": \"system\", \"content\": response_text },\n",
        "            { \"role\": \"user\", \"content\": f\"Observation: {observation}\" },\n",
        "            ])"
      ]
    },
    {
      "cell_type": "code",
      "execution_count": null,
      "metadata": {
        "colab": {
          "base_uri": "https://localhost:8080/"
        },
        "id": "NI3QskSZGmzz",
        "outputId": "27bec33b-aaed-4e67-d0a5-c1339c854c02"
      },
      "outputs": [
        {
          "output_type": "stream",
          "name": "stdout",
          "text": [
            "Thought: I need to find the current information about the new board members of OpenAI. \n",
            "Action: Search\n",
            "Action Input: \"New OpenAI board members\"\n",
            "Observation:  7 days ago ... I am returning to OpenAI as CEO. Mira will return to her role as CTO. The new initial board will consist of Bret Taylor (Chair), Larry Summers, ...Nov 21, 2023 ... Altman were jettisoned from the board, whose members now include Bret Taylor, an early Facebook officer and former co-chief executive of ...OpenAI is governed by the board of the OpenAI Nonprofit, currently comprised of Independent Directors Bret Taylor (Chair), Larry Summers, and Adam D'Angelo.Nov 22, 2023 ... Here are the newest members of OpenAI's board · Bret Taylor, board chair · Larry Summers · Adam D'Angelo.Nov 22, 2023 ... The company will have an initial board consisting of Bret Taylor, the former chair of Twitter's board before its takeover by Elon Musk; Larry ...Nov 23, 2023 ... Who are OpenAI's new board members as Sam Altman returns? ... Nov 22 (Reuters) - ChatGPT-maker OpenAI on Tuesday said it reached an agreement for ...Nov 22, 2023 ... https://www.bloomberg.com/news/articles/2023-11-22/sam-altman-to-return-as-openai-ceo-with-a-new-board What are your thoughts?6 days ago ... Who is Bret Taylor? New OpenAI Board Member is Former Salesforce CEO · Bret Taylor is a 43-year-old American computer programmer, entrepreneur ...The new initial board included former Salesforce co-CEO Bret Taylor as chairman. OpenAI also announced that Microsoft would have a non-voting board seat at ...Nov 22, 2023 ... The company that developed ChatGPT has added new members to its board as it welcomes Sam Altman back as CEO · Sam Altman is the value in OpenAI: ...\n",
            "Action: Response To Human\n",
            "Action Input: \"The new board members of OpenAI include Bret Taylor, who is serving as the Chair, Larry Summers, and Adam D'Angelo.\"\n",
            "Response: The new board members of OpenAI include Bret Taylor, who is serving as the Chair, Larry Summers, and Adam D'Angelo.\n"
          ]
        }
      ],
      "source": [
        "Stream_agent(\"who is new openai board members\")"
      ]
    }
  ],
  "metadata": {
    "accelerator": "GPU",
    "colab": {
      "provenance": []
    },
    "kernelspec": {
      "display_name": "Python 3",
      "name": "python3"
    },
    "language_info": {
      "name": "python"
    }
  },
  "nbformat": 4,
  "nbformat_minor": 0
}